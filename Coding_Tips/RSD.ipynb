{
 "cells": [
  {
   "cell_type": "markdown",
   "metadata": {},
   "source": [
    "# RSD"
   ]
  },
  {
   "cell_type": "markdown",
   "metadata": {},
   "source": [
    "## redshifted position\n",
    "\n",
    "The redshift position in line of sight(LOS) direction is given by\n",
    "$$s = x^c + \\frac{ a v^c_{\\|} (1+z_{\\rm cos})}{H(z_{\\rm cos})}$$\n",
    "\n",
    "$a v^c_{\\|} = v_{\\|}$ in physical coordinate. \n",
    "\n",
    "People usually use \n",
    "$$s = x + \\frac{ v_{\\|} (1+z)}{H(z)}$$\n",
    "where $v_{\\|}$ is the peculiar velocity in the LOS direction and physical coordinate. \n",
    "$z = z_{\\rm cos}$ is the cosmological redshift."
   ]
  },
  {
   "cell_type": "code",
   "execution_count": 1,
   "metadata": {},
   "outputs": [],
   "source": [
    "import astropy.units as u\n",
    "from colossus.cosmology import cosmology\n",
    "cosmo = cosmology.setCosmology('planck15')"
   ]
  },
  {
   "cell_type": "code",
   "execution_count": 2,
   "metadata": {},
   "outputs": [],
   "source": [
    "h = cosmo.h\n",
    "Mpc_per_h = u.def_unit('Mpc/h', u.Mpc / h)"
   ]
  },
  {
   "cell_type": "code",
   "execution_count": 3,
   "metadata": {},
   "outputs": [],
   "source": [
    "# RSD \n",
    "def x2s(x, vx, z):\n",
    "    '''input x in cMpc/h, vx in physical peculiar km/s, output s in cMpc/h'''\n",
    "    dist = vx *u.km/u.s * (1+z) / cosmo.H(z)\n",
    "    return x + dist.to(Mpc_per_h).value"
   ]
  },
  {
   "cell_type": "markdown",
   "metadata": {},
   "source": [
    "## to grid\n",
    "\n",
    "The redshift position can be out of the range (0, boxL), we apply the periodic boundary conditions. "
   ]
  },
  {
   "cell_type": "code",
   "execution_count": 4,
   "metadata": {},
   "outputs": [],
   "source": [
    "import numpy as np"
   ]
  },
  {
   "cell_type": "code",
   "execution_count": 5,
   "metadata": {},
   "outputs": [],
   "source": [
    "def periodic_boundary(szs, boxL):\n",
    "    szs = np.where(szs < 0, szs + boxL, szs)\n",
    "    szs = np.where(szs > boxL, szs - boxL, szs)\n",
    "    return szs"
   ]
  }
 ],
 "metadata": {
  "kernelspec": {
   "display_name": "base",
   "language": "python",
   "name": "python3"
  },
  "language_info": {
   "codemirror_mode": {
    "name": "ipython",
    "version": 3
   },
   "file_extension": ".py",
   "mimetype": "text/x-python",
   "name": "python",
   "nbconvert_exporter": "python",
   "pygments_lexer": "ipython3",
   "version": "3.8.8"
  }
 },
 "nbformat": 4,
 "nbformat_minor": 2
}
