{
 "cells": [
  {
   "cell_type": "markdown",
   "metadata": {},
   "source": [
    "# averaged HI temperture\n",
    "\n",
    "you may see many different form of averaged $T_{\\rm HI}$, they should be the same, shown as follows:"
   ]
  },
  {
   "cell_type": "code",
   "execution_count": 1,
   "metadata": {},
   "outputs": [],
   "source": [
    "import numpy as np\n",
    "import astropy.units as u\n",
    "import astropy.constants as const\n",
    "from astropy.cosmology import Planck15 as cosmo"
   ]
  },
  {
   "cell_type": "code",
   "execution_count": 2,
   "metadata": {},
   "outputs": [],
   "source": [
    "h = cosmo.h\n",
    "OmM, OmL = cosmo.Om0, cosmo.Ode0\n",
    "H0 = cosmo.H0 "
   ]
  },
  {
   "cell_type": "markdown",
   "metadata": {},
   "source": [
    "## at low-z"
   ]
  },
  {
   "cell_type": "markdown",
   "metadata": {},
   "source": [
    "one physical form:\n",
    "\n",
    "$$\n",
    "\\bar{T}_{\\mathrm{HI}}\\left(z\\right)\n",
    "=\\frac{3 A_{12} \\hbar c^3}{16 m_{\\mathrm{H}} k_{\\mathrm{B}} \\nu_{\\mathrm{HI}}^2} \\frac{\\left(1+z\\right)^2}{H\\left(z\\right)}\\rho_{\\mathrm{HI} } \n",
    "$$"
   ]
  },
  {
   "cell_type": "code",
   "execution_count": 3,
   "metadata": {},
   "outputs": [
    {
     "data": {
      "text/plain": [
       "(<Quantity 2.86888e-15 1 / s>, <Quantity 1420.40575177 MHz>)"
      ]
     },
     "execution_count": 3,
     "metadata": {},
     "output_type": "execute_result"
    }
   ],
   "source": [
    "A21 = 2.86888e-15 * u.s**-1\n",
    "nu21 = 1420.40575177 * u.MHz\n",
    "A21, nu21"
   ]
  },
  {
   "cell_type": "markdown",
   "metadata": {},
   "source": [
    "whatever $\\rho_{\\rm HI}$ and $z$, just for show."
   ]
  },
  {
   "cell_type": "code",
   "execution_count": 4,
   "metadata": {},
   "outputs": [
    {
     "data": {
      "text/latex": [
       "$1186400 \\; \\mathrm{\\frac{M_{\\odot}}{Mpc^{3}}}$"
      ],
      "text/plain": [
       "<Quantity 1186400. solMass / Mpc3>"
      ]
     },
     "execution_count": 4,
     "metadata": {},
     "output_type": "execute_result"
    }
   ],
   "source": [
    "rho_HI = 2.966e8/250 * u.M_sun / u.Mpc**3\n",
    "z = 1.2\n",
    "rho_HI"
   ]
  },
  {
   "cell_type": "code",
   "execution_count": 5,
   "metadata": {},
   "outputs": [],
   "source": [
    "def aveT_HI(z):\n",
    "    coeff = 3* A21 * const.hbar * const.c**3 / (16* const.k_B * const.m_p * nu21**2) * (1+z)**2 / cosmo.H(z) * rho_HI\n",
    "    return coeff"
   ]
  },
  {
   "cell_type": "code",
   "execution_count": 6,
   "metadata": {},
   "outputs": [
    {
     "data": {
      "text/plain": [
       "(<Quantity 0.0029102 mK>, 0.00291020407618035)"
      ]
     },
     "execution_count": 6,
     "metadata": {},
     "output_type": "execute_result"
    }
   ],
   "source": [
    "aveT = aveT_HI(z).to(u.mK)\n",
    "aveT, aveT.value"
   ]
  },
  {
   "cell_type": "markdown",
   "metadata": {},
   "source": [
    "### Battye average\n",
    "\n",
    "another average....\n",
    "\n",
    "the mean brightness temperature of HI adopted from [Battye] is \n",
    "$$\n",
    "\\bar{T}_{\\mathrm{HI}}(z)=180 \\Omega_{\\mathrm{HI}}(z) h \\frac{(1+z)^2}{\\sqrt{\\Omega_{\\mathrm{m}}(1+z)^3+\\Omega_{\\Lambda}}} \\mathrm{mK},\n",
    "$$\n",
    "it's same as \n",
    "$$\n",
    "\\bar{T}_{\\text {obs }}(z)=44 \\mu \\mathrm{K}\\left(\\frac{\\Omega_{\\mathrm{HI}}(z) h}{2.45 \\times 10^{-4}}\\right) \\frac{(1+z)^2}{E(z)},\n",
    "$$\n",
    "since $44 \\mu \\mathrm{K} / 2.45 \\times 10^{-4} = 180 \\mathrm{mK}$."
   ]
  },
  {
   "cell_type": "code",
   "execution_count": 7,
   "metadata": {},
   "outputs": [
    {
     "data": {
      "text/plain": [
       "179.59183673469386"
      ]
     },
     "execution_count": 7,
     "metadata": {},
     "output_type": "execute_result"
    }
   ],
   "source": [
    "44/2.45*10"
   ]
  },
  {
   "cell_type": "code",
   "execution_count": 8,
   "metadata": {},
   "outputs": [],
   "source": [
    "def aveTHI_Battye(z, rho_HI):\n",
    "    '''\n",
    "    the mean brightness temperature of HI in unit mK. \\n\n",
    "    '''\n",
    "    OmegaHI = (rho_HI*8*np.pi * const.G / (3*H0**2)).to(u.m/u.m)\n",
    "    coeff = 180 * OmegaHI * h * (1+z)**2 / (np.sqrt(OmM * (1+z)**3 + OmL)) #mK\n",
    "    print('OmegaHI:', OmegaHI, ', average T_HI:', coeff, 'mK')\n",
    "    return coeff"
   ]
  },
  {
   "cell_type": "markdown",
   "metadata": {},
   "source": [
    "they are almost same:"
   ]
  },
  {
   "cell_type": "code",
   "execution_count": 9,
   "metadata": {},
   "outputs": [
    {
     "name": "stdout",
     "output_type": "stream",
     "text": [
      "OmegaHI: 9.315806242694519e-06 , average T_HI: 0.0027608774736784876 mK\n"
     ]
    },
    {
     "data": {
      "text/plain": [
       "(<Quantity 0.00276088>, <Quantity 0.0029102 mK>, <Quantity -0.00014933>)"
      ]
     },
     "execution_count": 9,
     "metadata": {},
     "output_type": "execute_result"
    }
   ],
   "source": [
    "aveT_Battye = aveTHI_Battye(z, rho_HI)\n",
    "aveT_Battye, aveT, aveT_Battye - aveT.value"
   ]
  }
 ],
 "metadata": {
  "kernelspec": {
   "display_name": "base",
   "language": "python",
   "name": "python3"
  },
  "language_info": {
   "codemirror_mode": {
    "name": "ipython",
    "version": 3
   },
   "file_extension": ".py",
   "mimetype": "text/x-python",
   "name": "python",
   "nbconvert_exporter": "python",
   "pygments_lexer": "ipython3",
   "version": "3.8.8"
  }
 },
 "nbformat": 4,
 "nbformat_minor": 2
}
