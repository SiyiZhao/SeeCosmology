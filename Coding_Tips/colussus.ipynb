{
 "cells": [
  {
   "cell_type": "markdown",
   "metadata": {},
   "source": [
    "# cosmology package comparison: astropy vs colossus\n",
    "\n",
    "since `astropy.cosmology` is not complete, I usually use `colussus` for cosmology calculations. Here is a basic reference of how to use `colossus`.\n",
    "\n",
    "We compare `astropy.cosmoloy` ('ascosmo') and `colossus` ('cosmo') for the following cosmological calculations:"
   ]
  },
  {
   "cell_type": "code",
   "execution_count": 1,
   "metadata": {},
   "outputs": [],
   "source": [
    "from scipy.misc import derivative\n",
    "import numpy as np\n",
    "import matplotlib.pyplot as plt\n",
    "plt.rcParams['text.usetex'] = False"
   ]
  },
  {
   "cell_type": "code",
   "execution_count": 2,
   "metadata": {},
   "outputs": [],
   "source": [
    "from astropy.cosmology import Planck15 as ascosmo\n",
    "import astropy.units as u\n",
    "from colossus.cosmology import cosmology"
   ]
  },
  {
   "cell_type": "code",
   "execution_count": 3,
   "metadata": {},
   "outputs": [],
   "source": [
    "# cosmo = cosmology.setCosmology('planck15')\n",
    "params = {\n",
    "    'flat': True,\n",
    "    'H0': 67.742,  # Hubble 参数\n",
    "    'Om0': 0.3099,  # 物质密度参数\n",
    "    'Ob0': 0.0486,  # 重子密度参数（可选）\n",
    "    'sigma8': 0.808992,  # sigma8 参数\n",
    "    'ns': 0.96822  # 标量谱指数\n",
    "}\n",
    "\n",
    "cosmo = cosmology.setCosmology('myCosmo', params)"
   ]
  },
  {
   "cell_type": "markdown",
   "metadata": {},
   "source": [
    "the parameters names are same."
   ]
  },
  {
   "cell_type": "code",
   "execution_count": 4,
   "metadata": {},
   "outputs": [
    {
     "data": {
      "text/plain": [
       "(0.67742, 67.742, 0.3099, 0.6900088346286786, 0.9999088346286786, 0.808992)"
      ]
     },
     "execution_count": 4,
     "metadata": {},
     "output_type": "execute_result"
    }
   ],
   "source": [
    "h = cosmo.h\n",
    "H0 = cosmo.H0 \n",
    "OmM, OmL = cosmo.Om0, cosmo.Ode0\n",
    "sigma8 = cosmo.sigma8\n",
    "h, H0, OmM, OmL, OmM+OmL, sigma8"
   ]
  },
  {
   "cell_type": "code",
   "execution_count": 5,
   "metadata": {},
   "outputs": [
    {
     "data": {
      "text/latex": [
       "$67.74 \\; \\mathrm{\\frac{km}{Mpc\\,s}}$"
      ],
      "text/plain": [
       "<Quantity 67.74 km / (Mpc s)>"
      ]
     },
     "execution_count": 5,
     "metadata": {},
     "output_type": "execute_result"
    }
   ],
   "source": [
    "ascosmo.H0"
   ]
  },
  {
   "cell_type": "markdown",
   "metadata": {},
   "source": [
    "`colussus` use unit Mpc/h, while `astropy.cosmology` use Mpc and calculate with units. \n",
    "we prepare unit Mpc/h for `colussus` here:"
   ]
  },
  {
   "cell_type": "code",
   "execution_count": 6,
   "metadata": {},
   "outputs": [
    {
     "data": {
      "text/latex": [
       "$0.67742 \\; \\mathrm{Mpc/h}$"
      ],
      "text/plain": [
       "<Quantity 0.67742 Mpc/h>"
      ]
     },
     "execution_count": 6,
     "metadata": {},
     "output_type": "execute_result"
    }
   ],
   "source": [
    "Mpc_per_h = u.def_unit('Mpc/h', u.Mpc / h)\n",
    "(1*u.Mpc).to(Mpc_per_h)"
   ]
  },
  {
   "cell_type": "markdown",
   "metadata": {},
   "source": [
    "## H(z)"
   ]
  },
  {
   "cell_type": "code",
   "execution_count": 7,
   "metadata": {},
   "outputs": [
    {
     "data": {
      "text/latex": [
       "$135.34776 \\; \\mathrm{\\frac{km}{Mpc\\,s}}$"
      ],
      "text/plain": [
       "<Quantity 135.34776396 km / (Mpc s)>"
      ]
     },
     "execution_count": 7,
     "metadata": {},
     "output_type": "execute_result"
    }
   ],
   "source": [
    "z=1.2\n",
    "cosmo.Hz(z)*u.km/u.s/u.Mpc"
   ]
  },
  {
   "cell_type": "code",
   "execution_count": 8,
   "metadata": {},
   "outputs": [
    {
     "data": {
      "text/latex": [
       "$135.17734 \\; \\mathrm{\\frac{km}{Mpc\\,s}}$"
      ],
      "text/plain": [
       "<Quantity 135.17733731 km / (Mpc s)>"
      ]
     },
     "execution_count": 8,
     "metadata": {},
     "output_type": "execute_result"
    }
   ],
   "source": [
    "ascosmo.H(z)"
   ]
  },
  {
   "cell_type": "markdown",
   "metadata": {},
   "source": [
    "## comoving distance"
   ]
  },
  {
   "cell_type": "code",
   "execution_count": 9,
   "metadata": {},
   "outputs": [
    {
     "data": {
      "text/latex": [
       "$3865.8071 \\; \\mathrm{Mpc}$"
      ],
      "text/plain": [
       "<Quantity 3865.80714198 Mpc>"
      ]
     },
     "execution_count": 9,
     "metadata": {},
     "output_type": "execute_result"
    }
   ],
   "source": [
    "ascosmo.comoving_distance(z)"
   ]
  },
  {
   "cell_type": "code",
   "execution_count": 10,
   "metadata": {},
   "outputs": [
    {
     "name": "stdout",
     "output_type": "stream",
     "text": [
      "2616.9666989671136 Mpc/h 3863.137638344179 Mpc\n"
     ]
    }
   ],
   "source": [
    "d = cosmo.comovingDistance(0, z) * Mpc_per_h \n",
    "print(d, d.to(u.Mpc))"
   ]
  },
  {
   "cell_type": "markdown",
   "metadata": {},
   "source": [
    "## time"
   ]
  },
  {
   "cell_type": "code",
   "execution_count": 11,
   "metadata": {},
   "outputs": [
    {
     "data": {
      "text/plain": [
       "array(7.93080889)"
      ]
     },
     "execution_count": 11,
     "metadata": {},
     "output_type": "execute_result"
    }
   ],
   "source": [
    "cosmo.lookbackTime(1)\n"
   ]
  },
  {
   "cell_type": "code",
   "execution_count": 12,
   "metadata": {},
   "outputs": [
    {
     "data": {
      "text/plain": [
       "(<Quantity 7.93506664 Gyr>,\n",
       " <Quantity 12.25651027 Gyr>,\n",
       " <Quantity 13.79724884 Gyr>)"
      ]
     },
     "execution_count": 12,
     "metadata": {},
     "output_type": "execute_result"
    }
   ],
   "source": [
    "ascosmo.lookback_time(1), ascosmo.lookback_time(4), ascosmo.lookback_time(1100)"
   ]
  },
  {
   "cell_type": "code",
   "execution_count": 13,
   "metadata": {},
   "outputs": [
    {
     "data": {
      "text/latex": [
       "$1.5410999 \\; \\mathrm{Gyr}$"
      ],
      "text/plain": [
       "<Quantity 1.54109993 Gyr>"
      ]
     },
     "execution_count": 13,
     "metadata": {},
     "output_type": "execute_result"
    }
   ],
   "source": [
    "ascosmo.lookback_time(11000)-ascosmo.lookback_time(1)\n",
    "ascosmo.lookback_time(11000)-ascosmo.lookback_time(4)"
   ]
  },
  {
   "cell_type": "markdown",
   "metadata": {},
   "source": [
    "## colussus-only"
   ]
  },
  {
   "cell_type": "markdown",
   "metadata": {},
   "source": [
    "### growth factor"
   ]
  },
  {
   "cell_type": "code",
   "execution_count": 14,
   "metadata": {},
   "outputs": [],
   "source": [
    "def GrowthRate(z):\n",
    "    a = 1/(1+z)\n",
    "    \n",
    "    def D(a):\n",
    "        z = 1/a - 1\n",
    "        return cosmo.growthFactor(z) \n",
    "    \n",
    "    def logarithmic_derivative(a):\n",
    "        # 使用 scipy 的 derivative 函数来计算导数\n",
    "        dD_da = derivative(D, a, dx=1e-6)\n",
    "        # 计算对数导数\n",
    "        dlnD_dlna = dD_da * a / D(a)\n",
    "        return dlnD_dlna    \n",
    "    \n",
    "    return logarithmic_derivative(a)\n",
    "\n",
    "def f(z):\n",
    "    return GrowthRate(z)\n"
   ]
  },
  {
   "cell_type": "markdown",
   "metadata": {},
   "source": [
    "### linear power spectrum"
   ]
  },
  {
   "cell_type": "code",
   "execution_count": 15,
   "metadata": {},
   "outputs": [],
   "source": [
    "ks = np.logspace(-4, 1, 100)\n",
    "pks_mz = cosmo.matterPowerSpectrum(ks, z)\n",
    "pks_m0 = cosmo.matterPowerSpectrum(ks, 0)"
   ]
  },
  {
   "cell_type": "code",
   "execution_count": 16,
   "metadata": {},
   "outputs": [
    {
     "data": {
      "text/plain": [
       "<matplotlib.legend.Legend at 0x7fd833d9a5e0>"
      ]
     },
     "execution_count": 16,
     "metadata": {},
     "output_type": "execute_result"
    },
    {
     "data": {
      "image/png": "[encoded data removed]",
      "text/plain": [
       "<Figure size 960x600 with 1 Axes>"
      ]
     },
     "metadata": {},
     "output_type": "display_data"
    }
   ],
   "source": [
    "plt.plot(ks, pks_mz, label=f'z={z}')\n",
    "plt.plot(ks, pks_m0, label=f'z=0')\n",
    "plt.plot(ks, pks_m0*cosmo.growthFactor(z)**2, ':', label=f'z={z} (growth factor)')\n",
    "plt.xlabel(r'$k [h/{\\rm Mpc}]$')\n",
    "plt.xscale('log')\n",
    "plt.ylabel(r'$P(k) [({\\rm Mpc}/h)^3]$')\n",
    "plt.yscale('log')\n",
    "plt.legend()"
   ]
  },
  {
   "cell_type": "code",
   "execution_count": 17,
   "metadata": {},
   "outputs": [
    {
     "data": {
      "text/plain": [
       "(array(0.02573235), 0.02)"
      ]
     },
     "execution_count": 17,
     "metadata": {},
     "output_type": "execute_result"
    }
   ],
   "source": [
    "cosmo.growthFactor(49), 1/(1+49)"
   ]
  },
  {
   "cell_type": "code",
   "execution_count": 18,
   "metadata": {},
   "outputs": [],
   "source": [
    "np.savetxt(\"../data/pkl_z0/fastpm.dat\", np.column_stack((ks, pks_m0)))\n",
    "np.savetxt(\"../data/pkl_z0/log10_pks.dat\", np.column_stack((np.log10(ks), np.log10(pks_m0))))   "
   ]
  },
  {
   "cell_type": "markdown",
   "metadata": {},
   "source": [
    "## Transfer function\n",
    "\n",
    "2LPT-PNG need to input transfer function. \n",
    "It can normalize the transfer function, so we just output the unnormalized transfer function as $$T(k) = \\sqrt{\\frac{P(k)}{k}}$$"
   ]
  },
  {
   "cell_type": "code",
   "execution_count": 20,
   "metadata": {},
   "outputs": [],
   "source": [
    "Tk = np.sqrt(pks_m0/ks)"
   ]
  },
  {
   "cell_type": "code",
   "execution_count": null,
   "metadata": {},
   "outputs": [],
   "source": [
    "np.savetxt(\"../data/pkl_z0/Tk.dat\", np.column_stack((ks, Tk)))"
   ]
  }
 ],
 "metadata": {
  "kernelspec": {
   "display_name": "base",
   "language": "python",
   "name": "python3"
  },
  "language_info": {
   "codemirror_mode": {
    "name": "ipython",
    "version": 3
   },
   "file_extension": ".py",
   "mimetype": "text/x-python",
   "name": "python",
   "nbconvert_exporter": "python",
   "pygments_lexer": "ipython3",
   "version": "3.8.8"
  }
 },
 "nbformat": 4,
 "nbformat_minor": 2
}
