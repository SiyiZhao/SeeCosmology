{
 "cells": [
  {
   "cell_type": "markdown",
   "metadata": {},
   "source": [
    "little h appearing in many units is very boresome in cosmology researches, see [Damn it, little h!](). \n",
    "\n",
    "Since `astropy` can do calculations with units, it helps solve this problem. \n",
    "\n",
    "**No Damn It, Little h!**"
   ]
  },
  {
   "cell_type": "code",
   "execution_count": 1,
   "metadata": {},
   "outputs": [],
   "source": [
    "import astropy.units as u\n",
    "from colossus.cosmology import cosmology\n",
    "cosmo = cosmology.setCosmology('planck15')"
   ]
  },
  {
   "cell_type": "code",
   "execution_count": 2,
   "metadata": {},
   "outputs": [
    {
     "data": {
      "text/latex": [
       "$0.6774 \\; \\mathrm{Mpc/h}$"
      ],
      "text/plain": [
       "<Quantity 0.6774 Mpc/h>"
      ]
     },
     "execution_count": 2,
     "metadata": {},
     "output_type": "execute_result"
    }
   ],
   "source": [
    "# 定义一个新的单位\n",
    "h = cosmo.h\n",
    "Mpc_over_h = u.Mpc / h\n",
    "Mpc_per_h = u.def_unit('Mpc/h', Mpc_over_h)\n",
    "(1*u.Mpc).to(Mpc_per_h)"
   ]
  },
  {
   "cell_type": "code",
   "execution_count": 3,
   "metadata": {},
   "outputs": [
    {
     "data": {
      "text/plain": [
       "0.6774"
      ]
     },
     "execution_count": 3,
     "metadata": {},
     "output_type": "execute_result"
    }
   ],
   "source": [
    "h"
   ]
  }
 ],
 "metadata": {
  "kernelspec": {
   "display_name": "base",
   "language": "python",
   "name": "python3"
  },
  "language_info": {
   "codemirror_mode": {
    "name": "ipython",
    "version": 3
   },
   "file_extension": ".py",
   "mimetype": "text/x-python",
   "name": "python",
   "nbconvert_exporter": "python",
   "pygments_lexer": "ipython3",
   "version": "3.8.8"
  }
 },
 "nbformat": 4,
 "nbformat_minor": 2
}
